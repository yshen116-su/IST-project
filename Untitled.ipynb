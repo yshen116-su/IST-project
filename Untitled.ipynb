{
 "cells": [
  {
   "cell_type": "code",
   "execution_count": 9,
   "metadata": {},
   "outputs": [
    {
     "name": "stdout",
     "output_type": "stream",
     "text": [
      "This is BMI calculator\n",
      "Height is in which unit [Cm/Feet]: cm\n",
      "Please Enter your height: [For feet&inch please enter like (#\"#)]100\n",
      "Weight is in which unit [Kg/Pound]: kg\n",
      "Please Enter your weight: 200\n",
      "Obesity\n",
      "[    0                                                  1\n",
      "0 NaN  4. Fats and oils: 90 g (6 tablespoons) per day...\n",
      "1 NaN  1. Choice of fruit A cup of hot water as break...\n",
      "2 NaN  2. Two or three exceedingly ripe bananas as lu...\n",
      "3 NaN  3. A portion of fresh fish and a new baked pot...\n",
      "4 NaN  4. A green salad with dressing and nuts as din...\n",
      "5 NaN  5. Eat with a rare omelet with a dash of grate...]\n"
     ]
    }
   ],
   "source": [
    "def pound2kg(weight):\n",
    "    weight_kg = weight * 0.453592\n",
    "    return weight_kg\n",
    "\n",
    "def inch2cm(height):\n",
    "    height_cm = (height * 2.54)\n",
    "    return height_cm\n",
    "\n",
    "def ft2inch(height_feet):\n",
    "    height_inch = (height_feet * 12)\n",
    "    return height_inch\n",
    "\n",
    "def bmi(height_cm, weight_kg):\n",
    "    user_bmi = weight_kg / ((height_cm * 0.01) * (height_cm * 0.01))\n",
    "    return user_bmi\n",
    "\n",
    "def underweightchart():\n",
    "    warnings.filterwarnings('ignore')\n",
    "    website = 'http://listmoz.com/view/fgcpl3cSvYQ6Tdt3J1'\n",
    "    data = pd.read_html(website)\n",
    "    data[0]\n",
    "\n",
    "print(\"This is BMI calculator\")\n",
    "unit_height = input(\"Height is in which unit [Cm/Feet]: \").upper().replace(' ','')\n",
    "height = (input('Please Enter your height: [For feet&inch please enter like (#\"#)]')).replace(' ','')\n",
    "if unit_height == 'CM':\n",
    "    height_cm = float(height)\n",
    "elif unit_height == 'FEET':\n",
    "    height_feet, height_inch = height.split('\"')\n",
    "    height_feet = float(height_feet)\n",
    "    height_inch = float(height_inch)\n",
    "    height_inch = height_inch + ft2inch(height_feet)\n",
    "    height_cm = inch2cm(height_inch)\n",
    "else:\n",
    "    print(\"I cannot convert that\")\n",
    "unit_weight = input(\"Weight is in which unit [Kg/Pound]: \").upper().replace(' ','')\n",
    "weight = ((input(\"Please Enter your weight: \"))).replace(' ','')\n",
    "if unit_weight == 'KG':\n",
    "    weight_kg = float(weight)\n",
    "elif unit_weight == 'POUND':\n",
    "    weight = float(weight)\n",
    "    weight_kg = pound2kg(weight)\n",
    "else:\n",
    "    print(\"I cannot convert that\")\n",
    "    \n",
    "user_bmi = bmi(height_cm, weight_kg)\n",
    "if user_bmi <= 18.5:\n",
    "    print(\"Underweight\")\n",
    "    import pandas as pd\n",
    "    import warnings\n",
    "    warnings.filterwarnings('ignore')\n",
    "    website = 'http://listmoz.com/view/fgcpl3cSvYQ6Tdt3J1'\n",
    "    data1 = pd.read_html(website)\n",
    "    data1[0]\n",
    "    print(data1)\n",
    "elif user_bmi <=24.9:\n",
    "    print(\"Normal weight\")\n",
    "    import pandas as pd\n",
    "    import warnings\n",
    "    warnings.filterwarnings('ignore')\n",
    "    website = 'http://listmoz.com/view/YPFjrfNpn9LsPvK5Wv2'\n",
    "    data2 = pd.read_html(website)\n",
    "    data2[0]\n",
    "    print(data2) \n",
    "elif user_bmi <= 29.9:\n",
    "    print(\"Overweight\")\n",
    "    import pandas as pd\n",
    "    import warnings\n",
    "    warnings.filterwarnings('ignore')\n",
    "    website = 'http://listmoz.com/view/Xqcv8Ffvyd5nLTglx'\n",
    "    data3 = pd.read_html(website)\n",
    "    data3[0]\n",
    "    print(data3) \n",
    "else: \n",
    "    print(\"Obesity\")\n",
    "    import pandas as pd\n",
    "    import warnings\n",
    "    warnings.filterwarnings('ignore')\n",
    "    website = 'http://listmoz.com/view/Cmt5PdSNpqP2bQ3x'\n",
    "    data4 = pd.read_html(website)\n",
    "    data4[0]\n",
    "    print(data4) \n"
   ]
  },
  {
   "cell_type": "code",
   "execution_count": null,
   "metadata": {},
   "outputs": [],
   "source": []
  },
  {
   "cell_type": "code",
   "execution_count": null,
   "metadata": {},
   "outputs": [],
   "source": []
  },
  {
   "cell_type": "code",
   "execution_count": null,
   "metadata": {},
   "outputs": [],
   "source": []
  },
  {
   "cell_type": "code",
   "execution_count": null,
   "metadata": {},
   "outputs": [],
   "source": []
  },
  {
   "cell_type": "code",
   "execution_count": null,
   "metadata": {},
   "outputs": [],
   "source": []
  },
  {
   "cell_type": "code",
   "execution_count": null,
   "metadata": {},
   "outputs": [],
   "source": []
  },
  {
   "cell_type": "code",
   "execution_count": null,
   "metadata": {},
   "outputs": [],
   "source": []
  },
  {
   "cell_type": "code",
   "execution_count": null,
   "metadata": {},
   "outputs": [],
   "source": []
  },
  {
   "cell_type": "code",
   "execution_count": null,
   "metadata": {},
   "outputs": [],
   "source": []
  },
  {
   "cell_type": "code",
   "execution_count": null,
   "metadata": {},
   "outputs": [],
   "source": []
  },
  {
   "cell_type": "code",
   "execution_count": null,
   "metadata": {},
   "outputs": [],
   "source": []
  },
  {
   "cell_type": "code",
   "execution_count": null,
   "metadata": {},
   "outputs": [],
   "source": []
  },
  {
   "cell_type": "code",
   "execution_count": null,
   "metadata": {},
   "outputs": [],
   "source": []
  },
  {
   "cell_type": "code",
   "execution_count": null,
   "metadata": {},
   "outputs": [],
   "source": []
  },
  {
   "cell_type": "code",
   "execution_count": null,
   "metadata": {},
   "outputs": [],
   "source": []
  },
  {
   "cell_type": "code",
   "execution_count": null,
   "metadata": {},
   "outputs": [],
   "source": []
  },
  {
   "cell_type": "code",
   "execution_count": null,
   "metadata": {},
   "outputs": [],
   "source": []
  },
  {
   "cell_type": "code",
   "execution_count": null,
   "metadata": {},
   "outputs": [],
   "source": []
  },
  {
   "cell_type": "code",
   "execution_count": null,
   "metadata": {},
   "outputs": [],
   "source": []
  },
  {
   "cell_type": "code",
   "execution_count": null,
   "metadata": {},
   "outputs": [],
   "source": []
  },
  {
   "cell_type": "code",
   "execution_count": 2,
   "metadata": {},
   "outputs": [
    {
     "data": {
      "text/html": [
       "<div>\n",
       "<style scoped>\n",
       "    .dataframe tbody tr th:only-of-type {\n",
       "        vertical-align: middle;\n",
       "    }\n",
       "\n",
       "    .dataframe tbody tr th {\n",
       "        vertical-align: top;\n",
       "    }\n",
       "\n",
       "    .dataframe thead th {\n",
       "        text-align: right;\n",
       "    }\n",
       "</style>\n",
       "<table border=\"1\" class=\"dataframe\">\n",
       "  <thead>\n",
       "    <tr style=\"text-align: right;\">\n",
       "      <th></th>\n",
       "      <th>0</th>\n",
       "      <th>1</th>\n",
       "    </tr>\n",
       "  </thead>\n",
       "  <tbody>\n",
       "    <tr>\n",
       "      <th>0</th>\n",
       "      <td>NaN</td>\n",
       "      <td>1. Fats and oils: 90 g (6 tablespoons) per day...</td>\n",
       "    </tr>\n",
       "    <tr>\n",
       "      <th>1</th>\n",
       "      <td>NaN</td>\n",
       "      <td>2. Fruits and vegetables: 3-5 servings per day...</td>\n",
       "    </tr>\n",
       "    <tr>\n",
       "      <th>2</th>\n",
       "      <td>NaN</td>\n",
       "      <td>3. Bread and cereals: 8-12 servings every day ...</td>\n",
       "    </tr>\n",
       "    <tr>\n",
       "      <th>3</th>\n",
       "      <td>NaN</td>\n",
       "      <td>4. Meat, fish, eggs and other protein each day...</td>\n",
       "    </tr>\n",
       "    <tr>\n",
       "      <th>4</th>\n",
       "      <td>NaN</td>\n",
       "      <td>5. Full-cream milk:750 - 1000 ml (3 to 4 cups)...</td>\n",
       "    </tr>\n",
       "    <tr>\n",
       "      <th>5</th>\n",
       "      <td>NaN</td>\n",
       "      <td>6. Healthy desserts: 1-2 servings per day max ...</td>\n",
       "    </tr>\n",
       "  </tbody>\n",
       "</table>\n",
       "</div>"
      ],
      "text/plain": [
       "    0                                                  1\n",
       "0 NaN  1. Fats and oils: 90 g (6 tablespoons) per day...\n",
       "1 NaN  2. Fruits and vegetables: 3-5 servings per day...\n",
       "2 NaN  3. Bread and cereals: 8-12 servings every day ...\n",
       "3 NaN  4. Meat, fish, eggs and other protein each day...\n",
       "4 NaN  5. Full-cream milk:750 - 1000 ml (3 to 4 cups)...\n",
       "5 NaN  6. Healthy desserts: 1-2 servings per day max ..."
      ]
     },
     "execution_count": 2,
     "metadata": {},
     "output_type": "execute_result"
    }
   ],
   "source": [
    "    import pandas as pd\n",
    "    import warnings\n",
    "    warnings.filterwarnings('ignore')\n",
    "    website = 'http://listmoz.com/view/fgcpl3cSvYQ6Tdt3J1'\n",
    "    data = pd.read_html(website)\n",
    "    data[0]"
   ]
  },
  {
   "cell_type": "code",
   "execution_count": null,
   "metadata": {},
   "outputs": [],
   "source": []
  },
  {
   "cell_type": "code",
   "execution_count": null,
   "metadata": {},
   "outputs": [],
   "source": []
  },
  {
   "cell_type": "code",
   "execution_count": null,
   "metadata": {},
   "outputs": [],
   "source": []
  },
  {
   "cell_type": "code",
   "execution_count": null,
   "metadata": {},
   "outputs": [],
   "source": []
  },
  {
   "cell_type": "code",
   "execution_count": null,
   "metadata": {},
   "outputs": [],
   "source": []
  },
  {
   "cell_type": "code",
   "execution_count": null,
   "metadata": {},
   "outputs": [],
   "source": []
  },
  {
   "cell_type": "code",
   "execution_count": null,
   "metadata": {},
   "outputs": [],
   "source": []
  },
  {
   "cell_type": "code",
   "execution_count": null,
   "metadata": {},
   "outputs": [],
   "source": []
  },
  {
   "cell_type": "code",
   "execution_count": null,
   "metadata": {},
   "outputs": [],
   "source": []
  },
  {
   "cell_type": "code",
   "execution_count": null,
   "metadata": {},
   "outputs": [],
   "source": []
  },
  {
   "cell_type": "code",
   "execution_count": null,
   "metadata": {},
   "outputs": [],
   "source": []
  },
  {
   "cell_type": "code",
   "execution_count": null,
   "metadata": {},
   "outputs": [],
   "source": []
  },
  {
   "cell_type": "code",
   "execution_count": null,
   "metadata": {},
   "outputs": [],
   "source": []
  },
  {
   "cell_type": "code",
   "execution_count": null,
   "metadata": {},
   "outputs": [],
   "source": []
  },
  {
   "cell_type": "code",
   "execution_count": null,
   "metadata": {},
   "outputs": [],
   "source": []
  },
  {
   "cell_type": "code",
   "execution_count": null,
   "metadata": {},
   "outputs": [],
   "source": []
  },
  {
   "cell_type": "code",
   "execution_count": null,
   "metadata": {},
   "outputs": [],
   "source": []
  }
 ],
 "metadata": {
  "kernelspec": {
   "display_name": "Python 3",
   "language": "python",
   "name": "python3"
  },
  "language_info": {
   "codemirror_mode": {
    "name": "ipython",
    "version": 3
   },
   "file_extension": ".py",
   "mimetype": "text/x-python",
   "name": "python",
   "nbconvert_exporter": "python",
   "pygments_lexer": "ipython3",
   "version": "3.6.3"
  }
 },
 "nbformat": 4,
 "nbformat_minor": 2
}

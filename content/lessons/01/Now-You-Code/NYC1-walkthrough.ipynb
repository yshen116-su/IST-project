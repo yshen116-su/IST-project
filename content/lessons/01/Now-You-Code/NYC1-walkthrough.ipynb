{
 "cells": [
  {
   "cell_type": "markdown",
   "metadata": {},
   "source": [
    "# Now You Code 1: Check Divider\n",
    "\n",
    "This program will help you divide a dinner check evenly among the guests. You enter the number of diners and the amount of the check then the program will output the amount each diner should contribute to the check. \n",
    "\n",
    "Example run:\n",
    "\n",
    "```\n",
    "Python Check Divider\n",
    "How many people are dining? 4\n",
    "What is the total amount of the check? 60\n",
    "Each person should contribute 15.0 dollars.\n",
    "```"
   ]
  },
  {
   "cell_type": "markdown",
   "metadata": {
    "collapsed": true
   },
   "source": [
    "## Step 1: Problem Analysis\n",
    "\n",
    "Inputs:\n",
    "- number of diners as integer\n",
    "- total amount of the check\n",
    "Outputs:\n",
    "- amount each person should contribute to the check\n",
    "Algorithm (Steps in Program):\n",
    "1. input the number of diners\n",
    "2. input the amount of the check\n",
    "3. contribution = amount of check / diners\n",
    "4. print the contribution"
   ]
  },
  {
   "cell_type": "code",
   "execution_count": 1,
   "metadata": {},
   "outputs": [
    {
     "name": "stdout",
     "output_type": "stream",
     "text": [
      "How many people are dining? 4\n",
      "What is the total amount of the check? 60\n",
      "Each person should contribute 15.0 dollars.\n"
     ]
    }
   ],
   "source": [
    "# Step 2: write code hereprint(\"Python Check Divider\")\n",
    "people = int(input(\"How many people are dining? \"))\n",
    "check_total = float(input(\"What is the total amount of the check? \"))\n",
    "contribution = check_total / people\n",
    "print(\"Each person should contribute\", contribution, \"dollars.\")\n"
   ]
  },
  {
   "cell_type": "markdown",
   "metadata": {
    "collapsed": true
   },
   "source": [
    "## Step 3: Questions\n",
    "\n",
    "1. What happens when you enter `TWO` instead of `2` for the number of people dining? or $60 as the amount of the check, instead of 60?\n",
    "2. Why do you think this happens?\n",
    "3. Explain what happens when you enter `0.5` for the number of people dining?\n"
   ]
  },
  {
   "cell_type": "markdown",
   "metadata": {},
   "source": [
    "## Reminder of Evaluation Criteria\n",
    "\n",
    "1. What the problem attempted (analysis, code, and answered questions) ?\n",
    "2. What the problem analysis thought out? (does the program match the plan?)\n",
    "3. Does the code execute without syntax error?\n",
    "4. Does the code solve the intended problem?\n",
    "5. Is the code well written? (easy to understand, modular, and self-documenting, handles errors)\n"
   ]
  },
  {
   "cell_type": "code",
   "execution_count": 2,
   "metadata": {},
   "outputs": [
    {
     "ename": "SyntaxError",
     "evalue": "invalid syntax (<ipython-input-2-198623747431>, line 1)",
     "output_type": "error",
     "traceback": [
      "\u001b[1;36m  File \u001b[1;32m\"<ipython-input-2-198623747431>\"\u001b[1;36m, line \u001b[1;32m1\u001b[0m\n\u001b[1;33m    1. To write code of a check divider using Python\u001b[0m\n\u001b[1;37m        ^\u001b[0m\n\u001b[1;31mSyntaxError\u001b[0m\u001b[1;31m:\u001b[0m invalid syntax\n"
     ]
    }
   ],
   "source": [
    "1. To write code of a check divider using Python\n",
    "2. Yes\n",
    "3. Yes\n",
    "4. Yes\n",
    "5. Yes"
   ]
  },
  {
   "cell_type": "code",
   "execution_count": null,
   "metadata": {
    "collapsed": true
   },
   "outputs": [],
   "source": []
  }
 ],
 "metadata": {
  "anaconda-cloud": {},
  "kernelspec": {
   "display_name": "Python 3",
   "language": "python",
   "name": "python3"
  },
  "language_info": {
   "codemirror_mode": {
    "name": "ipython",
    "version": 3
   },
   "file_extension": ".py",
   "mimetype": "text/x-python",
   "name": "python",
   "nbconvert_exporter": "python",
   "pygments_lexer": "ipython3",
   "version": "3.6.1"
  }
 },
 "nbformat": 4,
 "nbformat_minor": 1
}

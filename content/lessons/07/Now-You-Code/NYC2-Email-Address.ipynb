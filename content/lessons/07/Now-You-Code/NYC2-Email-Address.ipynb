{
 "cells": [
  {
   "cell_type": "markdown",
   "metadata": {},
   "source": [
    "# Now You Code 2: Is That An Email Address?\n",
    "\n",
    "Let's use Python's built-in string functions to write our own function to detect if a string is an email address. \n",
    "\n",
    "The function `isEmail(text)` should return `True` when `text` is an email address, `False` otherwise.  \n",
    "\n",
    "For simplicity's sake we will define an email address to be any string with just ONE `@` symbol in it, where the `@` is not at the beginning or end of the string. So `a@b` is considered an email (even though it really isn't).\n",
    "\n",
    "The program should detect emails until you enter quit. \n",
    "\n",
    "Sample run:\n",
    "```\n",
    "Email address detector. Type quit to exit. \n",
    "Email: mafudge@syr.edu\n",
    "mafudge@syr.edu ==> email\n",
    "Email: mafudge@\n",
    "mafudge@ ==> NOT EMAIL\n",
    "Email: mafudge\n",
    "mafudge ==> NOT EMAIL\n",
    "Email: @syr.edu\n",
    "@syr.edu ==> NOT EMAIL\n",
    "Email: @\n",
    "@ ==> NOT EMAIL\n",
    "Email: mafudge@@syr.edu\n",
    "mafudge@@syr.edu ==> NOT EMAIL\n",
    "Email: mafudge@syr@edu\n",
    "mafudge@syr@edu ==> NOT EMAIL\n",
    "```\n",
    "\n",
    "Once again we will use the problem simplification technique to writing this program.\n",
    "\n",
    "First we will write the `isEmail(text)` function, then we will write the main program.\n"
   ]
  },
  {
   "cell_type": "markdown",
   "metadata": {},
   "source": [
    "## Step 1: Problem Analysis for isEmail function only\n",
    "\n",
    "Inputs: \n",
    "\n",
    "Outputs: \n",
    "\n",
    "Algorithm (Steps in Program):\n",
    "\n"
   ]
  },
  {
   "cell_type": "code",
   "execution_count": 6,
   "metadata": {},
   "outputs": [],
   "source": [
    "## Step 2: Todo write the function definition for isEmail functiuon\n",
    "def isEmail(string):\n",
    "    if string.count('@') == 1:\n",
    "        if string.startswith('@') is True:\n",
    "            result = 'False'\n",
    "        elif string.endswith('@') is True:\n",
    "            result = 'False'\n",
    "        else:     \n",
    "            result = 'True'\n",
    "    else:\n",
    "        result = 'False'\n",
    "    return(result)"
   ]
  },
  {
   "cell_type": "code",
   "execution_count": null,
   "metadata": {
    "collapsed": true
   },
   "outputs": [],
   "source": []
  },
  {
   "cell_type": "code",
   "execution_count": null,
   "metadata": {
    "collapsed": true
   },
   "outputs": [],
   "source": []
  },
  {
   "cell_type": "code",
   "execution_count": null,
   "metadata": {
    "collapsed": true
   },
   "outputs": [],
   "source": []
  },
  {
   "cell_type": "code",
   "execution_count": null,
   "metadata": {
    "collapsed": true
   },
   "outputs": [],
   "source": []
  },
  {
   "cell_type": "code",
   "execution_count": null,
   "metadata": {
    "collapsed": true
   },
   "outputs": [],
   "source": []
  },
  {
   "cell_type": "code",
   "execution_count": 8,
   "metadata": {},
   "outputs": [
    {
     "name": "stdout",
     "output_type": "stream",
     "text": [
      "Input: mike@syr.edu Should be True, Actual Value: True\n",
      "Input: mike@ Should be False, Actual Value: False\n",
      "Input: @mike Should be False, Actual Value: False\n",
      "Input: mi@ Should be False, Actual Value: False\n",
      "Input: @@@ Should be False, Actual Value: False\n"
     ]
    }
   ],
   "source": [
    "## Step 3: Write some tests, to ensure the function works, for example\n",
    "## Make sure to test all cases!\n",
    "print(\"Input:\", \"mike@syr.edu\", \"Should be True, Actual Value:\", isEmail(\"mike@syr.edu\") )\n",
    "print(\"Input:\", \"mike@\", \"Should be False, Actual Value:\", isEmail(\"mike@\") )\n",
    "print(\"Input:\", \"@mike\", \"Should be False, Actual Value:\", isEmail(\"@mike\") )\n",
    "print(\"Input:\", \"mi@\", \"Should be False, Actual Value:\", isEmail(\"mi@\") )\n",
    "print(\"Input:\", \"@@@\", \"Should be False, Actual Value:\", isEmail(\"@@@\") )\n"
   ]
  },
  {
   "cell_type": "code",
   "execution_count": null,
   "metadata": {
    "collapsed": true
   },
   "outputs": [],
   "source": []
  },
  {
   "cell_type": "code",
   "execution_count": null,
   "metadata": {
    "collapsed": true
   },
   "outputs": [],
   "source": []
  },
  {
   "cell_type": "code",
   "execution_count": null,
   "metadata": {
    "collapsed": true
   },
   "outputs": [],
   "source": []
  },
  {
   "cell_type": "markdown",
   "metadata": {},
   "source": [
    "## Step 4: Problem Analysis for full Program\n",
    "\n",
    "Inputs:\n",
    "\n",
    "Outputs:\n",
    "\n",
    "Algorithm (Steps in Program):\n",
    "\n"
   ]
  },
  {
   "cell_type": "code",
   "execution_count": 14,
   "metadata": {},
   "outputs": [
    {
     "name": "stdout",
     "output_type": "stream",
     "text": [
      "Enter an Email address or type 'quit'\n",
      "Enter an Email address:mike@syr.edu\n"
     ]
    }
   ],
   "source": [
    "## Step 5: todo write code for full problem, using the isEmail function to help you solve the problem\n",
    "def isEmail(string):\n",
    "    if string.count('@') == 1:\n",
    "        if string.startswith('@') is True:\n",
    "            result = 'False'\n",
    "        elif string.endswith('@') is True:\n",
    "            result = 'False'\n",
    "        else:     \n",
    "            result = 'True'\n",
    "    else:\n",
    "        result = 'False'\n",
    "    return(result)\n",
    "print(\"Enter an Email address or type 'quit'\")\n",
    "\n",
    "while True:\n",
    "    entereddata = input(\"Enter an Email address:\")\n",
    "    if string =='quit':\n",
    "        break\n",
    "    data = isEmail(entereddata)\n",
    "    if data == 'False':\n",
    "        print(entereddata, 'this is not an email address')\n",
    "    elif data == 'True':\n",
    "        print(entereddata, 'this is a valid email address.')\n",
    "    "
   ]
  },
  {
   "cell_type": "code",
   "execution_count": null,
   "metadata": {
    "collapsed": true
   },
   "outputs": [],
   "source": []
  },
  {
   "cell_type": "code",
   "execution_count": null,
   "metadata": {
    "collapsed": true
   },
   "outputs": [],
   "source": []
  },
  {
   "cell_type": "code",
   "execution_count": null,
   "metadata": {
    "collapsed": true
   },
   "outputs": [],
   "source": []
  },
  {
   "cell_type": "code",
   "execution_count": null,
   "metadata": {
    "collapsed": true
   },
   "outputs": [],
   "source": []
  },
  {
   "cell_type": "code",
   "execution_count": null,
   "metadata": {
    "collapsed": true
   },
   "outputs": [],
   "source": []
  },
  {
   "cell_type": "code",
   "execution_count": null,
   "metadata": {
    "collapsed": true
   },
   "outputs": [],
   "source": []
  },
  {
   "cell_type": "markdown",
   "metadata": {},
   "source": [
    "## Step 6: Questions\n",
    "\n",
    "1. How many test cases should you have in step 3 to ensure you've tested all the cases?4\n",
    "2. What should kind of logic should we add to make our `isEmail` function even better, so that is detects emails more accurately?\n"
   ]
  },
  {
   "cell_type": "markdown",
   "metadata": {},
   "source": [
    "## Reminder of Evaluation Criteria\n",
    "\n",
    "1. What the problem attempted (analysis, code, and answered questions) ?\n",
    "2. What the problem analysis thought out? (does the program match the plan?)\n",
    "3. Does the code execute without syntax error?\n",
    "4. Does the code solve the intended problem?\n",
    "5. Is the code well written? (easy to understand, modular, and self-documenting, handles errors)\n"
   ]
  },
  {
   "cell_type": "code",
   "execution_count": null,
   "metadata": {
    "collapsed": true
   },
   "outputs": [],
   "source": []
  }
 ],
 "metadata": {
  "anaconda-cloud": {},
  "kernelspec": {
   "display_name": "Python 3",
   "language": "python",
   "name": "python3"
  },
  "language_info": {
   "codemirror_mode": {
    "name": "ipython",
    "version": 3
   },
   "file_extension": ".py",
   "mimetype": "text/x-python",
   "name": "python",
   "nbconvert_exporter": "python",
   "pygments_lexer": "ipython3",
   "version": "3.6.1"
  }
 },
 "nbformat": 4,
 "nbformat_minor": 1
}

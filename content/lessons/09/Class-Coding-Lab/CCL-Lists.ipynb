{
 "cells": [
  {
   "cell_type": "markdown",
   "metadata": {},
   "source": [
    "# In-Class Coding Lab: Lists\n",
    "\n",
    "The goals of this lab are to help you understand:\n",
    "\n",
    " - List indexing and slicing\n",
    " - List methods such as insert, append, find, delete\n",
    " - How to iterate over lists with loops\n",
    " \n",
    "## Python Lists work like Real-Life Lists\n",
    " \n",
    "In real life, we make lists all the time. To-Do lists. Shopping lists. Reading lists.  These lists are collections of items, for example here's my shopping list:\n",
    " \n",
    " ```\n",
    " Milk, Eggs, Bread, Beer\n",
    " ```\n",
    "\n",
    "There are 4 items in this list.\n",
    "\n",
    "Likewise, we can make a similar list in Python, and count the number of items in the list using the `len()` function:"
   ]
  },
  {
   "cell_type": "code",
   "execution_count": 1,
   "metadata": {},
   "outputs": [
    {
     "name": "stdout",
     "output_type": "stream",
     "text": [
      "List: ['Milk', 'Eggs', 'Bread', 'Beer'] has 4 items\n"
     ]
    }
   ],
   "source": [
    "shopping_list = [ 'Milk', 'Eggs', 'Bread', 'Beer']\n",
    "item_count = len(shopping_list)\n",
    "print(\"List: %s has %d items\" % (shopping_list, item_count))"
   ]
  },
  {
   "cell_type": "code",
   "execution_count": null,
   "metadata": {
    "collapsed": true
   },
   "outputs": [],
   "source": []
  },
  {
   "cell_type": "markdown",
   "metadata": {},
   "source": [
    "## Enumerating Your List Items\n",
    "\n",
    "In real-life, we *enumerate* lists all the time. We go through the items on our list one at a time and make a decision, for example: \"Did I add that to my shopping cart yet?\"\n",
    "\n",
    "In Python we go through items in our lists with the `for` loop. We use `for` because the number of items in pre-determined and thus a **definite** loop is the appropriate choice. \n",
    "\n",
    "Here's an example:"
   ]
  },
  {
   "cell_type": "code",
   "execution_count": 2,
   "metadata": {},
   "outputs": [
    {
     "name": "stdout",
     "output_type": "stream",
     "text": [
      "I need to buy some Milk \n",
      "I need to buy some Eggs \n",
      "I need to buy some Bread \n",
      "I need to buy some Beer \n"
     ]
    }
   ],
   "source": [
    "for item in shopping_list:\n",
    "    print(\"I need to buy some %s \" % (item))"
   ]
  },
  {
   "cell_type": "code",
   "execution_count": null,
   "metadata": {
    "collapsed": true
   },
   "outputs": [],
   "source": []
  },
  {
   "cell_type": "markdown",
   "metadata": {},
   "source": [
    "## Now You Try It!\n",
    "\n",
    "Write code in the space below to print each stock on its own line."
   ]
  },
  {
   "cell_type": "code",
   "execution_count": 3,
   "metadata": {},
   "outputs": [
    {
     "name": "stdout",
     "output_type": "stream",
     "text": [
      "I need to buy some IBM \n",
      "I need to buy some AAPL \n",
      "I need to buy some GOOG \n",
      "I need to buy some MSFT \n",
      "I need to buy some TWTR \n",
      "I need to buy some FB \n"
     ]
    }
   ],
   "source": [
    "stocks = [ 'IBM', 'AAPL', 'GOOG', 'MSFT', 'TWTR', 'FB']\n",
    "#TODO: Write code here\n",
    "for item in stocks:\n",
    "    print(\"I need to buy some %s \" % (item))"
   ]
  },
  {
   "cell_type": "code",
   "execution_count": null,
   "metadata": {
    "collapsed": true
   },
   "outputs": [],
   "source": []
  },
  {
   "cell_type": "markdown",
   "metadata": {},
   "source": [
    "## Indexing Lists\n",
    "\n",
    "Sometimes we refer to our items by their place in the list. For example \"Milk is the first item on the list\" or \"Beer is the last item on the list.\"\n",
    "\n",
    "We can also do this in Python, and it is called *indexing* the list. \n",
    "\n",
    "**IMPORTANT** The first item in a Python lists starts at index **0**."
   ]
  },
  {
   "cell_type": "code",
   "execution_count": 4,
   "metadata": {},
   "outputs": [
    {
     "name": "stdout",
     "output_type": "stream",
     "text": [
      "The first item in the list is: Milk\n",
      "The last item in the list is: Beer\n",
      "This is also the last item in the list: Beer\n",
      "This is the second to last item in the list: Bread\n"
     ]
    }
   ],
   "source": [
    "print(\"The first item in the list is:\", shopping_list[0]) \n",
    "print(\"The last item in the list is:\", shopping_list[3])   \n",
    "print(\"This is also the last item in the list:\", shopping_list[-1])  \n",
    "print(\"This is the second to last item in the list:\", shopping_list[-2])\n"
   ]
  },
  {
   "cell_type": "code",
   "execution_count": null,
   "metadata": {
    "collapsed": true
   },
   "outputs": [],
   "source": []
  },
  {
   "cell_type": "markdown",
   "metadata": {},
   "source": [
    "## For Loop with Index\n",
    "\n",
    "You can also loop through your Python list using an index. In this case we use the `range()` function to determine how many times we should loop:"
   ]
  },
  {
   "cell_type": "code",
   "execution_count": 5,
   "metadata": {},
   "outputs": [
    {
     "name": "stdout",
     "output_type": "stream",
     "text": [
      "I need to buy some Milk \n",
      "I need to buy some Eggs \n",
      "I need to buy some Bread \n",
      "I need to buy some Beer \n"
     ]
    }
   ],
   "source": [
    "for i in range(len(shopping_list)):\n",
    "    print(\"I need to buy some %s \" % (shopping_list[i]))"
   ]
  },
  {
   "cell_type": "code",
   "execution_count": null,
   "metadata": {
    "collapsed": true
   },
   "outputs": [],
   "source": []
  },
  {
   "cell_type": "markdown",
   "metadata": {},
   "source": [
    "## Now You Try It!\n",
    "\n",
    "Write code to print the 2nd and 4th stocks in the list variable `stocks`. For example:\n",
    "\n",
    "`AAPL MSFT`"
   ]
  },
  {
   "cell_type": "code",
   "execution_count": 6,
   "metadata": {},
   "outputs": [
    {
     "name": "stdout",
     "output_type": "stream",
     "text": [
      "The second item in the list is: AAPL\n",
      "The fourth item in the list is: MSFT\n"
     ]
    }
   ],
   "source": [
    "#TODO: Write code here\n",
    "print(\"The second item in the list is:\", stocks[1])   \n",
    "print(\"The fourth item in the list is:\", stocks[3])"
   ]
  },
  {
   "cell_type": "code",
   "execution_count": null,
   "metadata": {
    "collapsed": true
   },
   "outputs": [],
   "source": []
  },
  {
   "cell_type": "markdown",
   "metadata": {},
   "source": [
    "## Lists are Mutable\n",
    "\n",
    "Unlike strings, lists are mutable. This means we can change a value in the list.\n",
    "\n",
    "For example, I want `'Craft Beer'` not just `'Beer'`:"
   ]
  },
  {
   "cell_type": "code",
   "execution_count": 7,
   "metadata": {},
   "outputs": [
    {
     "name": "stdout",
     "output_type": "stream",
     "text": [
      "['Milk', 'Eggs', 'Bread', 'Beer']\n",
      "['Milk', 'Eggs', 'Bread', 'Craft Beer']\n"
     ]
    }
   ],
   "source": [
    "print(shopping_list)\n",
    "shopping_list[-1] = 'Craft Beer'\n",
    "print(shopping_list)"
   ]
  },
  {
   "cell_type": "code",
   "execution_count": null,
   "metadata": {
    "collapsed": true
   },
   "outputs": [],
   "source": []
  },
  {
   "cell_type": "markdown",
   "metadata": {},
   "source": [
    "## List Methods\n",
    "\n",
    "In your readings and class lecture, you encountered some list methods. These allow us to maniupulate the list by adding or removing items."
   ]
  },
  {
   "cell_type": "code",
   "execution_count": 8,
   "metadata": {},
   "outputs": [
    {
     "name": "stdout",
     "output_type": "stream",
     "text": [
      "Shopping List: ['Milk', 'Eggs', 'Bread', 'Craft Beer']\n",
      "Adding 'Cheese' to the end of the list...\n",
      "Shopping List: ['Milk', 'Eggs', 'Bread', 'Craft Beer', 'Cheese']\n",
      "Adding 'Cereal' to position 0  in the list...\n",
      "Shopping List: ['Cereal', 'Milk', 'Eggs', 'Bread', 'Craft Beer', 'Cheese']\n",
      "Removing 'Cheese' from the list...\n",
      "Shopping List: ['Cereal', 'Milk', 'Eggs', 'Bread', 'Craft Beer']\n",
      "Removing item from position 0 in the list...\n",
      "Shopping List: ['Milk', 'Eggs', 'Bread', 'Craft Beer']\n"
     ]
    }
   ],
   "source": [
    "print(\"Shopping List: %s\" %(shopping_list))\n",
    "\n",
    "print(\"Adding 'Cheese' to the end of the list...\")\n",
    "shopping_list.append('Cheese')  #add to end of list\n",
    "print(\"Shopping List: %s\" %(shopping_list))\n",
    "\n",
    "print(\"Adding 'Cereal' to position 0  in the list...\")\n",
    "shopping_list.insert(0,'Cereal') # add to the beginning of the list (position 0)\n",
    "print(\"Shopping List: %s\" %(shopping_list))\n",
    "\n",
    "print(\"Removing 'Cheese' from the list...\")\n",
    "shopping_list.remove('Cheese')  # remove 'Cheese' from the list\n",
    "print(\"Shopping List: %s\" %(shopping_list))\n",
    "\n",
    "print(\"Removing item from position 0 in the list...\")\n",
    "del shopping_list[0]   # remove item at position 0\n",
    "print(\"Shopping List: %s\" %(shopping_list))\n"
   ]
  },
  {
   "cell_type": "code",
   "execution_count": null,
   "metadata": {
    "collapsed": true
   },
   "outputs": [],
   "source": []
  },
  {
   "cell_type": "markdown",
   "metadata": {},
   "source": [
    "## Now You Try It!\n",
    "\n",
    "Write a program to remove the following stocks: `IBM` and `TWTR`\n",
    "\n",
    "Then add this stock to the end `NFLX` and this stock to the beginning `TSLA`\n",
    "\n",
    "Print your list when you are done. It should look like this:\n",
    "\n",
    "`['TSLA', 'AAPL', 'GOOG', 'MSFT', 'FB', 'NFLX']`\n"
   ]
  },
  {
   "cell_type": "code",
   "execution_count": 9,
   "metadata": {},
   "outputs": [
    {
     "name": "stdout",
     "output_type": "stream",
     "text": [
      "stocks: ['IBM', 'AAPL', 'GOOG', 'MSFT', 'TWTR', 'FB']\n",
      "Removing 'IBM' from the list...\n",
      "stocks: ['AAPL', 'GOOG', 'MSFT', 'TWTR', 'FB']\n",
      "Removing 'TWTR' from the list...\n",
      "stocks: ['AAPL', 'GOOG', 'MSFT', 'FB']\n",
      "Adding 'NFLX' to the end of the list...\n",
      "stocks: ['AAPL', 'GOOG', 'MSFT', 'FB', 'NFLX']\n",
      "Adding 'TSLA' to position 0  in the list...\n",
      "stocks: ['TSLA', 'AAPL', 'GOOG', 'MSFT', 'FB', 'NFLX']\n"
     ]
    }
   ],
   "source": [
    "# TODO: Write Code here\n",
    "print(\"stocks: %s\" %(stocks))\n",
    "print(\"Removing 'IBM' from the list...\")\n",
    "stocks.remove('IBM')  # remove 'Cheese' from the list\n",
    "print(\"stocks: %s\" %(stocks))\n",
    "print(\"Removing 'TWTR' from the list...\")\n",
    "stocks.remove('TWTR')  # remove 'Cheese' from the list\n",
    "print(\"stocks: %s\" %(stocks))\n",
    "print(\"Adding 'NFLX' to the end of the list...\")\n",
    "stocks.append('NFLX')  #add to end of list\n",
    "print(\"stocks: %s\" %(stocks))\n",
    "print(\"Adding 'TSLA' to position 0  in the list...\")\n",
    "stocks.insert(0,'TSLA') # add to the beginning of the list (position 0)\n",
    "print(\"stocks: %s\" %(stocks))"
   ]
  },
  {
   "cell_type": "code",
   "execution_count": null,
   "metadata": {
    "collapsed": true
   },
   "outputs": [],
   "source": []
  },
  {
   "cell_type": "markdown",
   "metadata": {},
   "source": [
    "## Sorting\n",
    "\n",
    "Since Lists are mutable. You can use the `sort()` method to re-arrange the items in the list alphabetically (or numerically if it's a list of numbers)"
   ]
  },
  {
   "cell_type": "code",
   "execution_count": null,
   "metadata": {},
   "outputs": [],
   "source": [
    "print(\"Before Sort:\", shopping_list)\n",
    "shopping_list.sort() \n",
    "print(\"After Sort:\", shopping_list)"
   ]
  },
  {
   "cell_type": "markdown",
   "metadata": {},
   "source": [
    "# Putting it all together\n",
    "\n",
    "Winning Lotto numbers. When the lotto numbers are drawn, they are in any order, when they are presented they're allways sorted. Let's write a program to input 5 numbers then output them sorted\n",
    "\n",
    "```\n",
    "1. for i in range(5)\n",
    "2.    input a number\n",
    "3.    append the number you input to the lotto_numbers list\n",
    "4. sort the lotto_numbers list\n",
    "5. print the lotto_numbers list like this: \n",
    "   'today's winning numbers are [1, 5, 17, 34, 56]'\n",
    "```"
   ]
  },
  {
   "cell_type": "code",
   "execution_count": 11,
   "metadata": {},
   "outputs": [
    {
     "name": "stdout",
     "output_type": "stream",
     "text": [
      "Enter your lottery number:1\n",
      "Enter your lottery number:1\n",
      "Enter your lottery number:1\n",
      "Enter your lottery number:1\n",
      "Enter your lottery number:1\n",
      "Today's winning numbers are [1, 1, 1, 1, 1]\n"
     ]
    }
   ],
   "source": [
    "## TODO: Write program here:\n",
    "\n",
    "lotto_numbers = []  # start with an empty list\n",
    "for i in range(5):\n",
    "    lottery = int(input('Enter your lottery number:'))\n",
    "    lotto_numbers.append(lottery)\n",
    "lotto_numbers.sort()\n",
    "print(\"Today's winning numbers are %s\" % (lotto_numbers))"
   ]
  },
  {
   "cell_type": "code",
   "execution_count": null,
   "metadata": {
    "collapsed": true
   },
   "outputs": [],
   "source": []
  },
  {
   "cell_type": "code",
   "execution_count": null,
   "metadata": {
    "collapsed": true
   },
   "outputs": [],
   "source": []
  }
 ],
 "metadata": {
  "anaconda-cloud": {},
  "kernelspec": {
   "display_name": "Python 3",
   "language": "python",
   "name": "python3"
  },
  "language_info": {
   "codemirror_mode": {
    "name": "ipython",
    "version": 3
   },
   "file_extension": ".py",
   "mimetype": "text/x-python",
   "name": "python",
   "nbconvert_exporter": "python",
   "pygments_lexer": "ipython3",
   "version": "3.6.1"
  }
 },
 "nbformat": 4,
 "nbformat_minor": 1
}

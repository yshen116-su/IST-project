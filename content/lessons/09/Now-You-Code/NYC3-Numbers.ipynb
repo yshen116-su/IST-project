{
 "cells": [
  {
   "cell_type": "markdown",
   "metadata": {},
   "source": [
    "# Now You Code 3: List of numbers\n",
    "\n",
    "This example will demonstrate how to parse an input string into\n",
    "a list of numbers. You will then demonstrate it's a list of\n",
    "numbers by calculating the count, sum(), min(), max() and average\n",
    "of the numbers using Python's len(), sum(), min(), and max() functions.\n",
    "\n",
    "Example Run #1:\n",
    "```\n",
    "    Enter numbers separated by a space: 10 5 0\n",
    "\n",
    "    Numbers: [10.0, 5.0, 0.0]\n",
    "    Count: 3\n",
    "    Min: 0.0\n",
    "    Max: 10.0\n",
    "    Sum: 15.0\n",
    "    Average: 5.0\n",
    "```\n",
    "\n",
    "Example Run #2: (Handles bad input)\n",
    "```\n",
    "    Enter numbers separated by a space: 5 mike 3\n",
    "\n",
    "    Error: mike is not a number!\n",
    "```\n",
    "\n",
    "As usual, devise your plan, write the program, THEN figure out how to handle bad input in Example run #2.\n",
    "\n",
    "HINT: Use split() to make a list from the input, use a loop to convert\n",
    "each item in the list to a float\n",
    "\n",
    "Start out your program by writing your TODO list of steps\n",
    "you'll need to solve the problem!"
   ]
  },
  {
   "cell_type": "code",
   "execution_count": null,
   "metadata": {
    "collapsed": true
   },
   "outputs": [],
   "source": [
    "# TODO list here\n"
   ]
  },
  {
   "cell_type": "code",
   "execution_count": 1,
   "metadata": {},
   "outputs": [],
   "source": [
    "# Write code here \n",
    "numbers = [] # start with an empty list"
   ]
  }
 ],
 "metadata": {
  "anaconda-cloud": {},
  "kernelspec": {
   "display_name": "Python 3",
   "language": "python",
   "name": "python3"
  },
  "language_info": {
   "codemirror_mode": {
    "name": "ipython",
    "version": 3
   },
   "file_extension": ".py",
   "mimetype": "text/x-python",
   "name": "python",
   "nbconvert_exporter": "python",
   "pygments_lexer": "ipython3",
   "version": "3.6.1"
  }
 },
 "nbformat": 4,
 "nbformat_minor": 1
}

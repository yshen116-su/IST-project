{
 "cells": [
  {
   "cell_type": "markdown",
   "metadata": {},
   "source": [
    "# Now You Code 2: Shopping List\n",
    "\n",
    "Write a program to input a list of grocery items for your shopping list and then writes them to a file a line at a time.  The program should keep asking you to enter grocery items until you type `'done'`.\n",
    "\n",
    "After you complete the list, the program should then load the file and read the list back to you by printing each item out.\n",
    "\n",
    "Sample Run:\n",
    "\n",
    "```\n",
    "Let's make a shopping list. Type 'done' when you're finished:\n",
    "Enter Item: milk\n",
    "Enter Item: cheese\n",
    "Enter Item: eggs\n",
    "Enter Item: beer\n",
    "Enter Item: apples\n",
    "Enter Item: done\n",
    "Your shopping list:\n",
    "milk\n",
    "cheese\n",
    "eggs\n",
    "beer\n",
    "apples\n",
    "```\n"
   ]
  },
  {
   "cell_type": "markdown",
   "metadata": {
    "collapsed": true
   },
   "source": [
    "## Step 1: Problem Analysis\n",
    "\n",
    "Inputs:\n",
    "\n",
    "Outputs:\n",
    "\n",
    "Algorithm (Steps in Program):\n",
    "\n"
   ]
  },
  {
   "cell_type": "code",
   "execution_count": 3,
   "metadata": {},
   "outputs": [
    {
     "name": "stdout",
     "output_type": "stream",
     "text": [
      "Let's make a shopping list. Type 'done' when you are finished: \n",
      "Enter Item: milk\n",
      "Enter Item: butter\n",
      "butter\n",
      "Enter Item: \n",
      "\n",
      "Enter Item: milk\n",
      "milk\n",
      "Enter Item: butter\n",
      "butter\n",
      "Enter Item: done\n",
      "done\n",
      "['butter', '', 'milk', 'butter', 'done']\n"
     ]
    }
   ],
   "source": [
    "filename = \"NYC2-shopping-list.txt\"\n",
    "## Step 2: write code here\n",
    "print(\"Let's make a shopping list. Type 'done' when you are finished: \")\n",
    "readin=input(\"Enter Item: \")\n",
    "list1 = list()\n",
    "i=0\n",
    "if(readin!=\"done\"):\n",
    "    readin=input(\"Enter Item: \")\n",
    "    list1.insert(i,readin)\n",
    "    i=i+1\n",
    "    \n",
    "    \n",
    "if(readin==\"done\"):\n",
    "    print(list1)\n",
    "\n",
    "\n",
    "   "
   ]
  },
  {
   "cell_type": "code",
   "execution_count": null,
   "metadata": {
    "collapsed": true
   },
   "outputs": [],
   "source": []
  },
  {
   "cell_type": "code",
   "execution_count": null,
   "metadata": {
    "collapsed": true
   },
   "outputs": [],
   "source": []
  },
  {
   "cell_type": "code",
   "execution_count": null,
   "metadata": {
    "collapsed": true
   },
   "outputs": [],
   "source": []
  },
  {
   "cell_type": "code",
   "execution_count": null,
   "metadata": {
    "collapsed": true
   },
   "outputs": [],
   "source": []
  },
  {
   "cell_type": "code",
   "execution_count": null,
   "metadata": {
    "collapsed": true
   },
   "outputs": [],
   "source": []
  },
  {
   "cell_type": "code",
   "execution_count": null,
   "metadata": {
    "collapsed": true
   },
   "outputs": [],
   "source": []
  },
  {
   "cell_type": "code",
   "execution_count": null,
   "metadata": {
    "collapsed": true
   },
   "outputs": [],
   "source": []
  },
  {
   "cell_type": "code",
   "execution_count": null,
   "metadata": {
    "collapsed": true
   },
   "outputs": [],
   "source": []
  },
  {
   "cell_type": "code",
   "execution_count": null,
   "metadata": {
    "collapsed": true
   },
   "outputs": [],
   "source": []
  },
  {
   "cell_type": "code",
   "execution_count": null,
   "metadata": {
    "collapsed": true
   },
   "outputs": [],
   "source": []
  },
  {
   "cell_type": "code",
   "execution_count": null,
   "metadata": {
    "collapsed": true
   },
   "outputs": [],
   "source": []
  },
  {
   "cell_type": "code",
   "execution_count": null,
   "metadata": {
    "collapsed": true
   },
   "outputs": [],
   "source": []
  },
  {
   "cell_type": "code",
   "execution_count": null,
   "metadata": {
    "collapsed": true
   },
   "outputs": [],
   "source": []
  },
  {
   "cell_type": "markdown",
   "metadata": {
    "collapsed": true
   },
   "source": [
    "## Step 3: Refactoring\n",
    "\n",
    "Refactor the part of your program which reads the shopping list from the file into a separate user-defined function called `readShoppingList` \n",
    "re-write your program to use this function.\n",
    "\n",
    "## ReadShoppingList function\n",
    "\n",
    "Inputs:\n",
    "\n",
    "Outputs:\n",
    "\n",
    "Algorithm (Steps in Program):"
   ]
  },
  {
   "cell_type": "code",
   "execution_count": 2,
   "metadata": {
    "collapsed": true
   },
   "outputs": [],
   "source": [
    "## Step 4: Write program again with refactored code.\n"
   ]
  },
  {
   "cell_type": "markdown",
   "metadata": {},
   "source": [
    "## Step 5: Questions\n",
    "\n",
    "1. Is the refactored code in step 4 easier to read? Why or why not?\n",
    "2. Explain how this program could be refarctored further (there's one thing that's obvious).\n",
    "3. Describe how this program can be modified to support multiple shopping lists?\n"
   ]
  },
  {
   "cell_type": "markdown",
   "metadata": {},
   "source": [
    "## Reminder of Evaluation Criteria\n",
    "\n",
    "1. What the problem attempted (analysis, code, and answered questions) ?\n",
    "2. What the problem analysis thought out? (does the program match the plan?)\n",
    "3. Does the code execute without syntax error?\n",
    "4. Does the code solve the intended problem?\n",
    "5. Is the code well written? (easy to understand, modular, and self-documenting, handles errors)\n"
   ]
  },
  {
   "cell_type": "code",
   "execution_count": null,
   "metadata": {
    "collapsed": true
   },
   "outputs": [],
   "source": []
  }
 ],
 "metadata": {
  "anaconda-cloud": {},
  "kernelspec": {
   "display_name": "Python 3",
   "language": "python",
   "name": "python3"
  }
 },
 "nbformat": 4,
 "nbformat_minor": 1
}

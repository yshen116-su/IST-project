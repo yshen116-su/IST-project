{
 "cells": [
  {
   "cell_type": "markdown",
   "metadata": {},
   "source": [
    "# Now You Code 1: Check Splitter\n",
    "\n",
    "Write a Python program which splits up a restaurant check. It first prompts you to input the total amount of your check, then the number of people dining. It should then output the amout each diner must contribute to the check.  For example:\n",
    "\n",
    "```\n",
    "*** Check Splitter ***\n",
    "How much is the amount of the check? 100.00\n",
    "How many people ? 6\n",
    "Each person owes: $16.67\n",
    "```\n",
    "\n",
    "NOTE: Use string formatters to display the output to two decimal places.\n"
   ]
  },
  {
   "cell_type": "markdown",
   "metadata": {
    "collapsed": true
   },
   "source": [
    "## Step 1: Problem Analysis\n",
    "\n",
    "Inputs: Total of the check, the numebr of people\n",
    "\n",
    "Outputs: Print title and the amount each person will pay\n",
    "\n",
    "Algorithm (Steps in Program): \n",
    "1. Initiate variables\n",
    "2. Prompt for total check\n",
    "3. Prompt for number of diners\n",
    "3a. Prompt for tip percent\n",
    "3b. Calculate tip amount total amount * tip percent\n",
    "4. Total check amount divided by the number of people\n",
    "5. Print what each person owes.\n",
    "\n"
   ]
  },
  {
   "cell_type": "code",
   "execution_count": 16,
   "metadata": {},
   "outputs": [
    {
     "name": "stdout",
     "output_type": "stream",
     "text": [
      "**Check Splitter**\n",
      "How much is the amount of the check?20\n",
      "How many people?10\n",
      "What is the tip percent?10\n",
      "Each person owes: $2.20\n"
     ]
    }
   ],
   "source": [
    "# Step 2: Write code here\n",
    "num_diners = 0\n",
    "check_total = 0.0\n",
    "each_person_owes = 0.0\n",
    "tip_amount = 0.0\n",
    "tip_percent = 0\n",
    "print('**Check Splitter**')\n",
    "check_total = float(input('How much is the amount of the check?'))\n",
    "num_diner = int(input('How many people?'))\n",
    "tip_percent = int(input(\"What is the tip percent?\"))\n",
    "tip_percent = tip_percent / 100\n",
    "tip_amount = check_total * tip_percent\n",
    "check_tot_with_tip = tip_amount + check_total\n",
    "each_person_owes = check_tot_with_tip / num_diner\n",
    "print('Each person owes: $%.2f' % (each_person_owes))"
   ]
  },
  {
   "cell_type": "markdown",
   "metadata": {},
   "source": [
    "## Step 3: Questions\n",
    "\n",
    "1. What happens when you enter `TWO` instead of `2` for the number of people dining? or $60 as the amount of the check, instead of 60?\n",
    "2. What type of error is this? Do you think it can be handled in code?\n",
    "3. Explain what happens when you enter `0.5` for the number of people dining? Does the program run? Does it make sense? \n"
   ]
  },
  {
   "cell_type": "markdown",
   "metadata": {},
   "source": [
    "## Reminder of Evaluation Criteria\n",
    "\n",
    "1. What the problem attempted (analysis, code, and answered questions) ?\n",
    "2. What the problem analysis thought out? (does the program match the plan?)\n",
    "3. Does the code execute without syntax error?\n",
    "4. Does the code solve the intended problem?\n",
    "5. Is the code well written? (easy to understand, modular, and self-documenting, handles errors)\n"
   ]
  },
  {
   "cell_type": "code",
   "execution_count": null,
   "metadata": {
    "collapsed": true
   },
   "outputs": [],
   "source": []
  }
 ],
 "metadata": {
  "anaconda-cloud": {},
  "kernelspec": {
   "display_name": "Python 3",
   "language": "python",
   "name": "python3"
  },
  "language_info": {
   "codemirror_mode": {
    "name": "ipython",
    "version": 3
   },
   "file_extension": ".py",
   "mimetype": "text/x-python",
   "name": "python",
   "nbconvert_exporter": "python",
   "pygments_lexer": "ipython3",
   "version": "3.6.1"
  }
 },
 "nbformat": 4,
 "nbformat_minor": 1
}

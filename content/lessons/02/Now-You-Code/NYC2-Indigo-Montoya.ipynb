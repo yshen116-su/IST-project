{
 "cells": [
  {
   "cell_type": "markdown",
   "metadata": {},
   "source": [
    "# Now You Code 2: Indigo Montoya\n",
    "\n",
    "[The Pricess Bride](https://www.rottentomatoes.com/m/princess_bride/) is an adventure film from the 80's, a true cult classic. One of the many notable scenes involves a character Indigo Montoya who explains his character's motivation for revenge through the catch-phase:\n",
    "\n",
    "\"Hello. My name is Indigo Montoya. You killed my father. Prepare to die!\"\n",
    "\n",
    "You can watch the clip here: [https://www.youtube.com/watch?v=YY4cnMmo9qw](https://www.youtube.com/watch?v=YY4cnMmo9qw)\n",
    "\n",
    "Write a program in Python which asks the user to enter **your name**, a **relative** and an **past-tense action**. For example if you enter \"Indigo Montoya\", \"Father\" and \"killed\", the program will then output:\n",
    "\n",
    "\"Hello. My name is Indigo Montoya. You killed my father. Prepare to die!\"\n",
    "\n",
    "Or you could input \"Mike Fudge\", \"Uncle\" and \"Tickled\" to get:\n",
    "\n",
    "\"Hello. My name is Mike Fudge. You Tickled my Uncle. Prepare to die!\"\n"
   ]
  },
  {
   "cell_type": "markdown",
   "metadata": {
    "collapsed": true
   },
   "source": [
    "## Step 1: Problem Analysis\n",
    "\n",
    "Inputs:my name, a relative, a past tense action\n",
    "\n",
    "Outputs:print my name, print a relative's name, a past tense action done with the relative\n",
    "\n",
    "Algorithm (Steps in Program): initialize variables for my name, initialize variables for a relative, initialize variable for an action, prompt the user for all three inputs, print \"Hello, my name is\"+my name+ print \"you\"+an action+\"my\"+realtive+print \"prepare to die!!\""
   ]
  },
  {
   "cell_type": "code",
   "execution_count": 5,
   "metadata": {},
   "outputs": [
    {
     "name": "stdout",
     "output_type": "stream",
     "text": [
      "What is your name?Yirui\n",
      "Think of a relative's namebrother\n",
      "What did the person do to your relative?robbed\n",
      "Hello. My name is Yirui . You robbed my brother . Prepare to die!\n"
     ]
    }
   ],
   "source": [
    "myname = input(\"What is your name?\")\n",
    "relative = input(\"Think of a relative's name\")\n",
    "past_tense_action = input(\"What did the person do to your relative?\")\n",
    "print(\"Hello. My name is\",myname,\".\",\"You\",past_tense_action,\"my\",relative,\". Prepare to die!\")"
   ]
  },
  {
   "cell_type": "markdown",
   "metadata": {},
   "source": [
    "## Step 3: Questions\n",
    "\n",
    "1. What happens when neglect the instructions and enter a past-tense action instead of a name? Does the code still run? Why?\n",
    "2. What type of error it when the program runs but does not handle bad input?\n",
    "3. Is there anything you can do in code to correct this type of error? Why or why not?"
   ]
  },
  {
   "cell_type": "markdown",
   "metadata": {},
   "source": [
    "## Reminder of Evaluation Criteria\n",
    "\n",
    "1. What the problem attempted (analysis, code, and answered questions) ?\n",
    "2. What the problem analysis thought out? (does the program match the plan?)\n",
    "3. Does the code execute without syntax error?\n",
    "4. Does the code solve the intended problem?\n",
    "5. Is the code well written? (easy to understand, modular, and self-documenting, handles errors)\n"
   ]
  },
  {
   "cell_type": "code",
   "execution_count": null,
   "metadata": {
    "collapsed": true
   },
   "outputs": [],
   "source": [
    "1. Yes, it will still run. These are only inputs.\n",
    "2. A bug. The user didn't read the prompt\n",
    "3. No. There's no way that we can identify the variables for the user."
   ]
  }
 ],
 "metadata": {
  "anaconda-cloud": {},
  "kernelspec": {
   "display_name": "Python 3",
   "language": "python",
   "name": "python3"
  },
  "language_info": {
   "codemirror_mode": {
    "name": "ipython",
    "version": 3
   },
   "file_extension": ".py",
   "mimetype": "text/x-python",
   "name": "python",
   "nbconvert_exporter": "python",
   "pygments_lexer": "ipython3",
   "version": "3.6.1"
  }
 },
 "nbformat": 4,
 "nbformat_minor": 1
}

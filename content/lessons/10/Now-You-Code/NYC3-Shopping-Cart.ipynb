{
 "cells": [
  {
   "cell_type": "markdown",
   "metadata": {},
   "source": [
    "# Now You Code 3: Shopping Cart\n",
    "\n",
    "In this program you will implement an online shopping cart using a\n",
    "Python list of dictionary.\n",
    "\n",
    "The program should start by allowing the user to enter:\n",
    "\n",
    " - Product name\n",
    " - Product price\n",
    " - Product quantity\n",
    "\n",
    "until the user enters a product name of `'checkout'`\n",
    "\n",
    "after checkout the program should show the items in the cart\n",
    "and the total amount of the order (sum of quantity times price)\n",
    "\n",
    "NOTE: Don't worry about handling bad inputs for this exercise.\n",
    "\n",
    "Example Run:\n",
    "\n",
    "```\n",
    "E-Commerce Shopping Cart\n",
    "Enter product name or 'checkout':pencil\n",
    "Enter pencil Price:0.99\n",
    "Enter pencil Quantity:10\n",
    "Enter product name or 'checkout':calculator\n",
    "Enter calculator Price:9.99\n",
    "Enter calculator Quantity:1\n",
    "Enter product name or 'checkout':checkout\n",
    "pencil 10 $0.99\n",
    "calculator 1 $9.99\n",
    "TOTAL: $19.89\n",
    "```\n",
    "\n",
    "Start out your program by writing your TODO list of steps you'll need to solve the problem!"
   ]
  },
  {
   "cell_type": "code",
   "execution_count": 1,
   "metadata": {
    "collapsed": true
   },
   "outputs": [],
   "source": [
    "# TODO: Write todo list here\n"
   ]
  },
  {
   "cell_type": "code",
   "execution_count": 4,
   "metadata": {},
   "outputs": [],
   "source": [
    "# Write code here\n",
    "def main():\n",
    "    process=True\n",
    "    product_list=[]\n",
    "    price_list=[]\n",
    "    quantity_list=[]\n",
    "    i=0\n",
    "    while(process is True):\n",
    "        question=input(\"Enter product name or 'checkout': \")\n",
    "        product_list.insert(i,question)\n",
    "        \n",
    "        if question==\"checkout\":\n",
    "            process=False\n",
    "        \n",
    "        price=input(\"Enter \",question,\" price:\")\n",
    "        price_list.insert(i,price)\n",
    "        quantity=input(\"Enter \",question,\" Quantity: \")\n",
    "        quantity_list.insert(i,quantity)\n",
    "        i=i+1\n",
    "    while process is False:\n",
    "        output=0\n",
    "        for a in range(i):\n",
    "            print(product_list[a], quantity_list[a], \" $\",quantity_list[a])\n",
    "            output=ouput+quantity_list[a]+quantity_list[a]\n",
    "        print(\"Total: \",\"$\",output)\n",
    "            \n",
    "    \n",
    "        \n",
    "    \n"
   ]
  },
  {
   "cell_type": "code",
   "execution_count": null,
   "metadata": {},
   "outputs": [],
   "source": [
    "main()\n",
    "\n"
   ]
  },
  {
   "cell_type": "code",
   "execution_count": null,
   "metadata": {
    "collapsed": true
   },
   "outputs": [],
   "source": []
  }
 ],
 "metadata": {
  "anaconda-cloud": {},
  "kernelspec": {
   "display_name": "Python 3",
   "language": "python",
   "name": "python3"
  },
  "language_info": {
   "codemirror_mode": {
    "name": "ipython",
    "version": 3
   },
   "file_extension": ".py",
   "mimetype": "text/x-python",
   "name": "python",
   "nbconvert_exporter": "python",
   "pygments_lexer": "ipython3",
   "version": "3.6.1"
  }
 },
 "nbformat": 4,
 "nbformat_minor": 1
}
